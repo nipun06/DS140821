{
 "cells": [
  {
   "cell_type": "markdown",
   "id": "e829d294",
   "metadata": {},
   "source": [
    "## Write a Python function to sum all the numbers in a list."
   ]
  },
  {
   "cell_type": "code",
   "execution_count": 4,
   "id": "82a11959",
   "metadata": {},
   "outputs": [
    {
     "name": "stdout",
     "output_type": "stream",
     "text": [
      "20\n"
     ]
    }
   ],
   "source": [
    "def sum(num):\n",
    "    total = 0\n",
    "    for x in num:\n",
    "        total += x\n",
    "    return total\n",
    "print(sum((8, 2, 3, 0, 7)))"
   ]
  },
  {
   "cell_type": "markdown",
   "id": "e408ea3a",
   "metadata": {},
   "source": [
    "## Write a Python program to reverse a string."
   ]
  },
  {
   "cell_type": "code",
   "execution_count": 17,
   "id": "cea04fab",
   "metadata": {},
   "outputs": [
    {
     "name": "stdout",
     "output_type": "stream",
     "text": [
      "Enter the string:1234abcd\n",
      "The Reversed String is: dcba4321 \n"
     ]
    }
   ],
   "source": [
    "user_input = input(\"Enter the string:\")\n",
    "\n",
    "def reverse_string(string_entered):\n",
    "    reversed_string = \" \"\n",
    "    for i in string_entered:\n",
    "        reversed_string=i+reversed_string       \n",
    "    return reversed_string\n",
    "\n",
    "result=reverse_string(user_input)\n",
    "print('The Reversed String is:', result)"
   ]
  },
  {
   "cell_type": "markdown",
   "id": "e8fef559",
   "metadata": {},
   "source": [
    "## Write a Python function that accepts a string and calculate the number of upper case letters and lower case letters."
   ]
  },
  {
   "cell_type": "code",
   "execution_count": 19,
   "id": "5ee461a9",
   "metadata": {},
   "outputs": [
    {
     "name": "stdout",
     "output_type": "stream",
     "text": [
      "Enter the string: The quick Brow Fox\n",
      "Number of Upper Case Characters:  3\n",
      "Number of Lower Case Characters:  12\n"
     ]
    }
   ],
   "source": [
    "user_input = input(\"Enter the string: \")\n",
    "count_lower = 0\n",
    "count_upper = 0\n",
    "def count_upper_lower(user_input):\n",
    "    for i in user_input:\n",
    "        global count_lower\n",
    "        global count_upper\n",
    "        if i.islower():\n",
    "                count_lower+=1\n",
    "        elif i.isupper():\n",
    "                count_upper+=1\n",
    "        else:\n",
    "            pass\n",
    "    return count_upper,count_lower\n",
    "count_upper_lower(user_input)\n",
    "\n",
    "print(\"Number of Upper Case Characters: \",count_upper)         \n",
    "print(\"Number of Lower Case Characters: \",count_lower)"
   ]
  },
  {
   "cell_type": "code",
   "execution_count": null,
   "id": "3e8fee0b",
   "metadata": {},
   "outputs": [],
   "source": []
  }
 ],
 "metadata": {
  "kernelspec": {
   "display_name": "Python 3 (ipykernel)",
   "language": "python",
   "name": "python3"
  },
  "language_info": {
   "codemirror_mode": {
    "name": "ipython",
    "version": 3
   },
   "file_extension": ".py",
   "mimetype": "text/x-python",
   "name": "python",
   "nbconvert_exporter": "python",
   "pygments_lexer": "ipython3",
   "version": "3.9.6"
  }
 },
 "nbformat": 4,
 "nbformat_minor": 5
}
