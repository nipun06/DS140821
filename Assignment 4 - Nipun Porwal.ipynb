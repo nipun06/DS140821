{
 "cells": [
  {
   "cell_type": "markdown",
   "id": "a57981f9",
   "metadata": {},
   "source": [
    "## Write a Python program to create a lambda function that adds 25 to a given number passed in as an argument."
   ]
  },
  {
   "cell_type": "code",
   "execution_count": 1,
   "id": "965b377e",
   "metadata": {},
   "outputs": [
    {
     "name": "stdout",
     "output_type": "stream",
     "text": [
      "Enter the Number: 10\n"
     ]
    },
    {
     "data": {
      "text/plain": [
       "35"
      ]
     },
     "execution_count": 1,
     "metadata": {},
     "output_type": "execute_result"
    }
   ],
   "source": [
    "sample_input = int(input(\"Enter the Number: \"))\n",
    "Add=lambda sample_input: sample_input+25\n",
    "Add(sample_input)"
   ]
  },
  {
   "cell_type": "markdown",
   "id": "9c48d729",
   "metadata": {},
   "source": [
    "# Write a Python program to triple all numbers of a given list of integers. Use Python map."
   ]
  },
  {
   "cell_type": "code",
   "execution_count": 13,
   "id": "791de7c9",
   "metadata": {},
   "outputs": [
    {
     "name": "stdout",
     "output_type": "stream",
     "text": [
      "Please enter the list of integers:\n",
      "1 2 3 4 5 6 7\n",
      "\n",
      "Triple of input numbers are:\n",
      "[3, 6, 9, 12, 15, 18, 21]\n"
     ]
    }
   ],
   "source": [
    "print('Please enter the list of integers:')\n",
    "sample_list = [int(i) for i in input().split()]\n",
    "result = map(lambda x: x*3, sample_list) \n",
    "print(\"\\nTriple of input numbers are:\")\n",
    "print(list(result))"
   ]
  },
  {
   "cell_type": "markdown",
   "id": "369a09c4",
   "metadata": {},
   "source": [
    "# Write a Python program to square the elements of a list using map() function."
   ]
  },
  {
   "cell_type": "code",
   "execution_count": 14,
   "id": "63706be0",
   "metadata": {},
   "outputs": [
    {
     "name": "stdout",
     "output_type": "stream",
     "text": [
      "Please enter the numbers: \n",
      "4 5 2 9\n",
      "Square of elements of List are: \n"
     ]
    },
    {
     "data": {
      "text/plain": [
       "[16, 25, 4, 81]"
      ]
     },
     "execution_count": 14,
     "metadata": {},
     "output_type": "execute_result"
    }
   ],
   "source": [
    "print('Please enter the numbers: ')\n",
    "sample_list = [int(i) for i in input().split()]\n",
    "print('Square of elements of List are: ')\n",
    "list(map(lambda square: square**2, sample_list))"
   ]
  },
  {
   "cell_type": "code",
   "execution_count": null,
   "id": "38970693",
   "metadata": {},
   "outputs": [],
   "source": []
  }
 ],
 "metadata": {
  "kernelspec": {
   "display_name": "Python 3 (ipykernel)",
   "language": "python",
   "name": "python3"
  },
  "language_info": {
   "codemirror_mode": {
    "name": "ipython",
    "version": 3
   },
   "file_extension": ".py",
   "mimetype": "text/x-python",
   "name": "python",
   "nbconvert_exporter": "python",
   "pygments_lexer": "ipython3",
   "version": "3.9.6"
  }
 },
 "nbformat": 4,
 "nbformat_minor": 5
}
