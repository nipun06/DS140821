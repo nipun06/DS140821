{
 "cells": [
  {
   "cell_type": "code",
   "execution_count": 1,
   "id": "c02ec7a5",
   "metadata": {},
   "outputs": [],
   "source": [
    "##Don't go Outside in Odd day"
   ]
  },
  {
   "cell_type": "code",
   "execution_count": 2,
   "id": "4e500232",
   "metadata": {},
   "outputs": [
    {
     "name": "stdout",
     "output_type": "stream",
     "text": [
      "Number of Even Numbers are: 4\n",
      "Number of Odd Numbers are: 5\n"
     ]
    }
   ],
   "source": [
    "l = [1,2,3,4,5,6,7,8,9]\n",
    "even = 0\n",
    "odd = 0\n",
    "for i in l:\n",
    "    if i%2==0:\n",
    "        even+= 1\n",
    "    else:\n",
    "        odd+= 1\n",
    "print(\"Number of Even Numbers are:\",even)\n",
    "print(\"Number of Odd Numbers are:\",odd)"
   ]
  },
  {
   "cell_type": "code",
   "execution_count": null,
   "id": "12107318",
   "metadata": {},
   "outputs": [],
   "source": []
  }
 ],
 "metadata": {
  "kernelspec": {
   "display_name": "Python 3 (ipykernel)",
   "language": "python",
   "name": "python3"
  },
  "language_info": {
   "codemirror_mode": {
    "name": "ipython",
    "version": 3
   },
   "file_extension": ".py",
   "mimetype": "text/x-python",
   "name": "python",
   "nbconvert_exporter": "python",
   "pygments_lexer": "ipython3",
   "version": "3.9.6"
  }
 },
 "nbformat": 4,
 "nbformat_minor": 5
}
