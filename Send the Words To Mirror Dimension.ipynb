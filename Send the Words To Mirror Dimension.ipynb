{
 "cells": [
  {
   "cell_type": "code",
   "execution_count": 1,
   "id": "63aec687",
   "metadata": {},
   "outputs": [],
   "source": [
    "##Send the Words To Mirror Dimension"
   ]
  },
  {
   "cell_type": "code",
   "execution_count": 2,
   "id": "768f7828",
   "metadata": {},
   "outputs": [
    {
     "name": "stdout",
     "output_type": "stream",
     "text": [
      "Enter the Word: Hello How are you\n",
      "uoy era woH olleH\n"
     ]
    }
   ],
   "source": [
    "txt = str(input(\"Enter the Word: \"))\n",
    "conv = txt[::-1]\n",
    "print(conv)"
   ]
  },
  {
   "cell_type": "code",
   "execution_count": null,
   "id": "2c0922cf",
   "metadata": {},
   "outputs": [],
   "source": []
  }
 ],
 "metadata": {
  "kernelspec": {
   "display_name": "Python 3 (ipykernel)",
   "language": "python",
   "name": "python3"
  },
  "language_info": {
   "codemirror_mode": {
    "name": "ipython",
    "version": 3
   },
   "file_extension": ".py",
   "mimetype": "text/x-python",
   "name": "python",
   "nbconvert_exporter": "python",
   "pygments_lexer": "ipython3",
   "version": "3.9.6"
  }
 },
 "nbformat": 4,
 "nbformat_minor": 5
}
