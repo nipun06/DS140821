{
 "cells": [
  {
   "cell_type": "code",
   "execution_count": 1,
   "id": "ce0ebfde",
   "metadata": {},
   "outputs": [],
   "source": [
    "class square_power:\n",
    "    def __init__(self,a,n):\n",
    "        self.a=a\n",
    "        self.n=n\n",
    "        self.ans=0\n",
    "    def square(self):\n",
    "        self.ans=pow(self.a,self.n)\n",
    "        print(self.ans)"
   ]
  },
  {
   "cell_type": "code",
   "execution_count": 2,
   "id": "145de68d",
   "metadata": {},
   "outputs": [],
   "source": [
    "find=square_power(10,2)"
   ]
  },
  {
   "cell_type": "code",
   "execution_count": 3,
   "id": "61f3ca03",
   "metadata": {},
   "outputs": [
    {
     "name": "stdout",
     "output_type": "stream",
     "text": [
      "100\n"
     ]
    }
   ],
   "source": [
    "find.square()"
   ]
  },
  {
   "cell_type": "code",
   "execution_count": null,
   "id": "c8348328",
   "metadata": {},
   "outputs": [],
   "source": []
  }
 ],
 "metadata": {
  "kernelspec": {
   "display_name": "Python 3 (ipykernel)",
   "language": "python",
   "name": "python3"
  },
  "language_info": {
   "codemirror_mode": {
    "name": "ipython",
    "version": 3
   },
   "file_extension": ".py",
   "mimetype": "text/x-python",
   "name": "python",
   "nbconvert_exporter": "python",
   "pygments_lexer": "ipython3",
   "version": "3.10.0"
  }
 },
 "nbformat": 4,
 "nbformat_minor": 5
}
